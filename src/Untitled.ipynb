{
 "cells": [
  {
   "cell_type": "code",
   "execution_count": 1,
   "metadata": {},
   "outputs": [],
   "source": [
    "import numpy as np\n",
    "from fastRCNN_model import fast_RCNN_model"
   ]
  },
  {
   "cell_type": "code",
   "execution_count": 30,
   "metadata": {},
   "outputs": [],
   "source": [
    "img_dir = \"../img/\"\n",
    "subclip_dir = [str(i*10)+\"-\"+str((i+1)*10)+\"/\" for i in range(23)]\n",
    "video_num = [str(i) + \" video \" for i in [0, 1, 4, 5]]\n",
    "frame_num = [str(i*10)+\".png\" for i in range(27)]"
   ]
  },
  {
   "cell_type": "code",
   "execution_count": 34,
   "metadata": {},
   "outputs": [],
   "source": [
    "model = fast_RCNN_model()\n",
    "file = img_dir + subclip_dir[0] + video_num[0] + frame_num[0]\n",
    "file2 = \"../img/0-10/0 video 210.png\"\n",
    "file3 = \"../img/0-10/1 video 210.png\""
   ]
  },
  {
   "cell_type": "code",
   "execution_count": 35,
   "metadata": {},
   "outputs": [
    {
     "data": {
      "text/plain": [
       "'../img/0-10/0 video 0.png'"
      ]
     },
     "execution_count": 35,
     "metadata": {},
     "output_type": "execute_result"
    }
   ],
   "source": [
    "file"
   ]
  },
  {
   "cell_type": "code",
   "execution_count": 32,
   "metadata": {},
   "outputs": [],
   "source": [
    "start = 0"
   ]
  },
  {
   "cell_type": "code",
   "execution_count": 83,
   "metadata": {},
   "outputs": [
    {
     "name": "stdout",
     "output_type": "stream",
     "text": [
      "../img/0-10/0 video 0.png\n",
      "../img/0-10/1 video 0.png\n",
      "../img/0-10/4 video 0.png\n",
      "../img/0-10/5 video 0.png\n",
      "../img/0-10/0 video 10.png\n",
      "../img/0-10/1 video 10.png\n",
      "../img/0-10/4 video 10.png\n",
      "../img/0-10/5 video 10.png\n",
      "../img/0-10/0 video 20.png\n",
      "../img/0-10/1 video 20.png\n",
      "../img/0-10/4 video 20.png\n",
      "../img/0-10/5 video 20.png\n",
      "../img/0-10/0 video 30.png\n",
      "../img/0-10/1 video 30.png\n",
      "../img/0-10/4 video 30.png\n",
      "../img/0-10/5 video 30.png\n",
      "../img/0-10/0 video 40.png\n",
      "../img/0-10/1 video 40.png\n",
      "../img/0-10/4 video 40.png\n",
      "../img/0-10/5 video 40.png\n",
      "../img/0-10/0 video 50.png\n",
      "../img/0-10/1 video 50.png\n",
      "../img/0-10/4 video 50.png\n",
      "../img/0-10/5 video 50.png\n",
      "../img/0-10/0 video 60.png\n",
      "../img/0-10/1 video 60.png\n",
      "../img/0-10/4 video 60.png\n",
      "../img/0-10/5 video 60.png\n",
      "../img/0-10/0 video 70.png\n",
      "../img/0-10/1 video 70.png\n",
      "../img/0-10/4 video 70.png\n",
      "../img/0-10/5 video 70.png\n",
      "../img/0-10/0 video 80.png\n",
      "../img/0-10/1 video 80.png\n",
      "../img/0-10/4 video 80.png\n",
      "../img/0-10/5 video 80.png\n",
      "../img/0-10/0 video 90.png\n",
      "../img/0-10/1 video 90.png\n",
      "../img/0-10/4 video 90.png\n",
      "../img/0-10/5 video 90.png\n",
      "../img/0-10/0 video 100.png\n",
      "../img/0-10/1 video 100.png\n",
      "../img/0-10/4 video 100.png\n",
      "../img/0-10/5 video 100.png\n",
      "../img/0-10/0 video 110.png\n",
      "../img/0-10/1 video 110.png\n",
      "../img/0-10/4 video 110.png\n",
      "../img/0-10/5 video 110.png\n",
      "../img/0-10/0 video 120.png\n",
      "../img/0-10/1 video 120.png\n",
      "../img/0-10/4 video 120.png\n",
      "../img/0-10/5 video 120.png\n",
      "../img/0-10/0 video 130.png\n",
      "../img/0-10/1 video 130.png\n",
      "../img/0-10/4 video 130.png\n",
      "../img/0-10/5 video 130.png\n",
      "../img/0-10/0 video 140.png\n",
      "../img/0-10/1 video 140.png\n",
      "../img/0-10/4 video 140.png\n",
      "../img/0-10/5 video 140.png\n",
      "../img/0-10/0 video 150.png\n",
      "../img/0-10/1 video 150.png\n",
      "../img/0-10/4 video 150.png\n",
      "../img/0-10/5 video 150.png\n",
      "../img/0-10/0 video 160.png\n",
      "../img/0-10/1 video 160.png\n",
      "../img/0-10/4 video 160.png\n",
      "../img/0-10/5 video 160.png\n",
      "../img/0-10/0 video 170.png\n",
      "../img/0-10/1 video 170.png\n",
      "../img/0-10/4 video 170.png\n",
      "../img/0-10/5 video 170.png\n",
      "../img/0-10/0 video 180.png\n",
      "../img/0-10/1 video 180.png\n",
      "../img/0-10/4 video 180.png\n",
      "../img/0-10/5 video 180.png\n",
      "../img/0-10/0 video 190.png\n",
      "../img/0-10/1 video 190.png\n",
      "../img/0-10/4 video 190.png\n",
      "../img/0-10/5 video 190.png\n",
      "../img/0-10/0 video 200.png\n",
      "../img/0-10/1 video 200.png\n",
      "../img/0-10/4 video 200.png\n",
      "../img/0-10/5 video 200.png\n",
      "../img/0-10/0 video 210.png\n",
      "../img/0-10/1 video 210.png\n",
      "../img/0-10/4 video 210.png\n",
      "../img/0-10/5 video 210.png\n",
      "../img/0-10/0 video 220.png\n",
      "../img/0-10/1 video 220.png\n",
      "../img/0-10/4 video 220.png\n",
      "../img/0-10/5 video 220.png\n",
      "../img/0-10/0 video 230.png\n",
      "../img/0-10/1 video 230.png\n",
      "../img/0-10/4 video 230.png\n",
      "../img/0-10/5 video 230.png\n",
      "../img/0-10/0 video 240.png\n",
      "../img/0-10/1 video 240.png\n",
      "../img/0-10/4 video 240.png\n",
      "../img/0-10/5 video 240.png\n",
      "../img/0-10/0 video 250.png\n",
      "../img/0-10/1 video 250.png\n",
      "../img/0-10/4 video 250.png\n",
      "../img/0-10/5 video 250.png\n",
      "../img/0-10/0 video 260.png\n",
      "../img/0-10/1 video 260.png\n",
      "../img/0-10/4 video 260.png\n",
      "../img/0-10/5 video 260.png\n"
     ]
    }
   ],
   "source": [
    "for period in subclip_dir[:1]:\n",
    "    for f_num in frame_num:\n",
    "        \n",
    "        for v_num in video_num:\n",
    "            file_name = img_dir + period + v_num + f_num\n",
    "            print(file_name)\n",
    "#             model.write_file_name(file_name=file)\n",
    "#             box_id, box_score, box_val = model.run_model()\n",
    "#             point = np.sum(box_val[:,2:]) / 6000\n",
    "#             point.asnumpy()[0]"
   ]
  },
  {
   "cell_type": "code",
   "execution_count": 81,
   "metadata": {},
   "outputs": [
    {
     "data": {
      "text/plain": [
       "2.196524"
      ]
     },
     "execution_count": 81,
     "metadata": {},
     "output_type": "execute_result"
    }
   ],
   "source": [
    "model.write_file_name(file_name=file)\n",
    "box_id, box_score, box_val = model.run_model()\n",
    "\n",
    "point = np.sum(box_val[:,2:]) / 6000\n",
    "point.asnumpy()[0]"
   ]
  },
  {
   "cell_type": "code",
   "execution_count": null,
   "metadata": {},
   "outputs": [],
   "source": []
  }
 ],
 "metadata": {
  "kernelspec": {
   "display_name": "Python 3",
   "language": "python",
   "name": "python3"
  },
  "language_info": {
   "codemirror_mode": {
    "name": "ipython",
    "version": 3
   },
   "file_extension": ".py",
   "mimetype": "text/x-python",
   "name": "python",
   "nbconvert_exporter": "python",
   "pygments_lexer": "ipython3",
   "version": "3.7.6"
  }
 },
 "nbformat": 4,
 "nbformat_minor": 4
}
